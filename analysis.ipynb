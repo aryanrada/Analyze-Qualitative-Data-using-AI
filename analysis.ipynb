{
 "cells": [
  {
   "cell_type": "code",
   "execution_count": 1,
   "metadata": {},
   "outputs": [],
   "source": [
    "import pandas as pd\n",
    "import nltk\n",
    "from nltk.corpus import stopwords\n",
    "from nltk.stem import PorterStemmer \n",
    "import re\n",
    "import string\n",
    "import glob\n",
    "import os\n",
    "import seaborn as sns\n",
    "import matplotlib.pyplot as plt"
   ]
  },
  {
   "cell_type": "code",
   "execution_count": 2,
   "metadata": {},
   "outputs": [],
   "source": [
    "folder_path = \"reddit dataset/\"\n",
    "csv_files = glob.glob(os.path.join(folder_path, \"*.csv\"))"
   ]
  },
  {
   "cell_type": "code",
   "execution_count": 3,
   "metadata": {},
   "outputs": [],
   "source": [
    "data = pd.concat([pd.read_csv(file) for file in csv_files], ignore_index=True)\n",
    "data.to_csv(\"combined_data.csv\", index=False)\n",
    "#data = pd.read_csv(\"reddit dataset/college.csv\")"
   ]
  },
  {
   "cell_type": "code",
   "execution_count": 4,
   "metadata": {},
   "outputs": [
    {
     "name": "stdout",
     "output_type": "stream",
     "text": [
      "<class 'pandas.core.frame.DataFrame'>\n",
      "RangeIndex: 37580 entries, 0 to 37579\n",
      "Data columns (total 15 columns):\n",
      " #   Column         Non-Null Count  Dtype  \n",
      "---  ------         --------------  -----  \n",
      " 0   Unnamed: 0     34712 non-null  object \n",
      " 1   ID             34712 non-null  object \n",
      " 2   is_Original    26311 non-null  object \n",
      " 3   Flair          19587 non-null  object \n",
      " 4   num_comments   29179 non-null  float64\n",
      " 5   Title          29179 non-null  object \n",
      " 6   Subreddit      37580 non-null  object \n",
      " 7   Body           16405 non-null  object \n",
      " 8   URL            29179 non-null  object \n",
      " 9   Upvotes        37580 non-null  int64  \n",
      " 10  Comments       27163 non-null  object \n",
      " 11  creation_date  37580 non-null  object \n",
      " 12  is_original    2868 non-null   object \n",
      " 13  Text           8400 non-null   object \n",
      " 14  Sentiment      8401 non-null   object \n",
      "dtypes: float64(1), int64(1), object(13)\n",
      "memory usage: 4.3+ MB\n"
     ]
    }
   ],
   "source": [
    "data.info()"
   ]
  },
  {
   "cell_type": "code",
   "execution_count": 5,
   "metadata": {},
   "outputs": [
    {
     "data": {
      "text/plain": [
       "Unnamed: 0        2868\n",
       "ID                2868\n",
       "is_Original      11269\n",
       "Flair            17993\n",
       "num_comments      8401\n",
       "Title             8401\n",
       "Subreddit            0\n",
       "Body             21175\n",
       "URL               8401\n",
       "Upvotes              0\n",
       "Comments         10417\n",
       "creation_date        0\n",
       "is_original      34712\n",
       "Text             29180\n",
       "Sentiment        29179\n",
       "dtype: int64"
      ]
     },
     "execution_count": 5,
     "metadata": {},
     "output_type": "execute_result"
    }
   ],
   "source": [
    "data.isnull().sum()"
   ]
  },
  {
   "cell_type": "code",
   "execution_count": 6,
   "metadata": {},
   "outputs": [
    {
     "data": {
      "text/html": [
       "<div>\n",
       "<style scoped>\n",
       "    .dataframe tbody tr th:only-of-type {\n",
       "        vertical-align: middle;\n",
       "    }\n",
       "\n",
       "    .dataframe tbody tr th {\n",
       "        vertical-align: top;\n",
       "    }\n",
       "\n",
       "    .dataframe thead th {\n",
       "        text-align: right;\n",
       "    }\n",
       "</style>\n",
       "<table border=\"1\" class=\"dataframe\">\n",
       "  <thead>\n",
       "    <tr style=\"text-align: right;\">\n",
       "      <th></th>\n",
       "      <th>ID</th>\n",
       "      <th>num_comments</th>\n",
       "      <th>Title</th>\n",
       "      <th>Subreddit</th>\n",
       "      <th>Body</th>\n",
       "      <th>Upvotes</th>\n",
       "      <th>Comments</th>\n",
       "      <th>creation_date</th>\n",
       "      <th>is_original</th>\n",
       "      <th>Text</th>\n",
       "      <th>Sentiment</th>\n",
       "    </tr>\n",
       "  </thead>\n",
       "  <tbody>\n",
       "    <tr>\n",
       "      <th>0</th>\n",
       "      <td>fcpbui</td>\n",
       "      <td>13.0</td>\n",
       "      <td>Can't have sex the same</td>\n",
       "      <td>AdviceForTeens</td>\n",
       "      <td>I'm in a relationship of 2 years, naturally be...</td>\n",
       "      <td>24</td>\n",
       "      <td>Have you tried trying your hardest to just con...</td>\n",
       "      <td>2020-03-03 12:39:21</td>\n",
       "      <td>NaN</td>\n",
       "      <td>NaN</td>\n",
       "      <td>NaN</td>\n",
       "    </tr>\n",
       "    <tr>\n",
       "      <th>1</th>\n",
       "      <td>fbtk1w</td>\n",
       "      <td>3.0</td>\n",
       "      <td>How to break up with a friend in the most peac...</td>\n",
       "      <td>AdviceForTeens</td>\n",
       "      <td>I’d love for us to slide off of each other but...</td>\n",
       "      <td>18</td>\n",
       "      <td>there’s really two ways you can do this.\\r\\nth...</td>\n",
       "      <td>2020-03-01 20:44:48</td>\n",
       "      <td>NaN</td>\n",
       "      <td>NaN</td>\n",
       "      <td>NaN</td>\n",
       "    </tr>\n",
       "    <tr>\n",
       "      <th>2</th>\n",
       "      <td>1681jg</td>\n",
       "      <td>4.0</td>\n",
       "      <td>[MODPOST] [META] Lets bring this subreddit bac...</td>\n",
       "      <td>AdviceForTeens</td>\n",
       "      <td>Hey everyone! I'm one of your friendly neighbo...</td>\n",
       "      <td>21</td>\n",
       "      <td>Me: http://i.imgur.com/QqKyW.jpg\\r\\n\\r\\nI also...</td>\n",
       "      <td>2013-01-09 10:23:30</td>\n",
       "      <td>NaN</td>\n",
       "      <td>NaN</td>\n",
       "      <td>NaN</td>\n",
       "    </tr>\n",
       "    <tr>\n",
       "      <th>3</th>\n",
       "      <td>fcmxds</td>\n",
       "      <td>0.0</td>\n",
       "      <td>The most important thing when texting a girl i...</td>\n",
       "      <td>AdviceForTeens</td>\n",
       "      <td>Here are some tips on how to text a girl and s...</td>\n",
       "      <td>18</td>\n",
       "      <td>NaN</td>\n",
       "      <td>2020-03-03 09:33:01</td>\n",
       "      <td>NaN</td>\n",
       "      <td>NaN</td>\n",
       "      <td>NaN</td>\n",
       "    </tr>\n",
       "    <tr>\n",
       "      <th>4</th>\n",
       "      <td>f9gz1a</td>\n",
       "      <td>15.0</td>\n",
       "      <td>My dad found my porn, help</td>\n",
       "      <td>AdviceForTeens</td>\n",
       "      <td>So.. I got a virus onto my laptop so my dad de...</td>\n",
       "      <td>18</td>\n",
       "      <td>How old are you? If you’re of reasonable age, ...</td>\n",
       "      <td>2020-02-26 04:51:52</td>\n",
       "      <td>NaN</td>\n",
       "      <td>NaN</td>\n",
       "      <td>NaN</td>\n",
       "    </tr>\n",
       "    <tr>\n",
       "      <th>...</th>\n",
       "      <td>...</td>\n",
       "      <td>...</td>\n",
       "      <td>...</td>\n",
       "      <td>...</td>\n",
       "      <td>...</td>\n",
       "      <td>...</td>\n",
       "      <td>...</td>\n",
       "      <td>...</td>\n",
       "      <td>...</td>\n",
       "      <td>...</td>\n",
       "      <td>...</td>\n",
       "    </tr>\n",
       "    <tr>\n",
       "      <th>37575</th>\n",
       "      <td>2l6gjh</td>\n",
       "      <td>0.0</td>\n",
       "      <td>This thread is one of the most goddamn infuria...</td>\n",
       "      <td>YouthRights</td>\n",
       "      <td>NaN</td>\n",
       "      <td>0</td>\n",
       "      <td>NaN</td>\n",
       "      <td>2014-11-03 18:30:32</td>\n",
       "      <td>NaN</td>\n",
       "      <td>NaN</td>\n",
       "      <td>NaN</td>\n",
       "    </tr>\n",
       "    <tr>\n",
       "      <th>37576</th>\n",
       "      <td>1unipq</td>\n",
       "      <td>0.0</td>\n",
       "      <td>Youth baseball is better when you train with d...</td>\n",
       "      <td>YouthRights</td>\n",
       "      <td>NaN</td>\n",
       "      <td>0</td>\n",
       "      <td>NaN</td>\n",
       "      <td>2014-01-07 21:08:33</td>\n",
       "      <td>NaN</td>\n",
       "      <td>NaN</td>\n",
       "      <td>NaN</td>\n",
       "    </tr>\n",
       "    <tr>\n",
       "      <th>37577</th>\n",
       "      <td>klm9m</td>\n",
       "      <td>12.0</td>\n",
       "      <td>Under 35 Entrepreneur? Win a Re:LIFE Inc Prize</td>\n",
       "      <td>YouthRights</td>\n",
       "      <td>NaN</td>\n",
       "      <td>0</td>\n",
       "      <td>IMO this has nothing to do \\nwith youth rights...</td>\n",
       "      <td>2011-09-20 14:42:42</td>\n",
       "      <td>NaN</td>\n",
       "      <td>NaN</td>\n",
       "      <td>NaN</td>\n",
       "    </tr>\n",
       "    <tr>\n",
       "      <th>37578</th>\n",
       "      <td>16yt7q</td>\n",
       "      <td>11.0</td>\n",
       "      <td>How many years until we'll be ready for a 12-y...</td>\n",
       "      <td>YouthRights</td>\n",
       "      <td>I still like to let it sink in from time to ti...</td>\n",
       "      <td>0</td>\n",
       "      <td>&gt; the average 5th grader has access to the sam...</td>\n",
       "      <td>2013-01-21 03:09:56</td>\n",
       "      <td>NaN</td>\n",
       "      <td>NaN</td>\n",
       "      <td>NaN</td>\n",
       "    </tr>\n",
       "    <tr>\n",
       "      <th>37579</th>\n",
       "      <td>poq5z</td>\n",
       "      <td>118.0</td>\n",
       "      <td>The Truth About Child Sexualization</td>\n",
       "      <td>YouthRights</td>\n",
       "      <td>Suppose we defined all activities on the part ...</td>\n",
       "      <td>0</td>\n",
       "      <td>\"child sexualization\" asumes that children are...</td>\n",
       "      <td>2012-02-14 05:46:11</td>\n",
       "      <td>NaN</td>\n",
       "      <td>NaN</td>\n",
       "      <td>NaN</td>\n",
       "    </tr>\n",
       "  </tbody>\n",
       "</table>\n",
       "<p>37580 rows × 11 columns</p>\n",
       "</div>"
      ],
      "text/plain": [
       "           ID  num_comments  \\\n",
       "0      fcpbui          13.0   \n",
       "1      fbtk1w           3.0   \n",
       "2      1681jg           4.0   \n",
       "3      fcmxds           0.0   \n",
       "4      f9gz1a          15.0   \n",
       "...       ...           ...   \n",
       "37575  2l6gjh           0.0   \n",
       "37576  1unipq           0.0   \n",
       "37577   klm9m          12.0   \n",
       "37578  16yt7q          11.0   \n",
       "37579   poq5z         118.0   \n",
       "\n",
       "                                                   Title       Subreddit  \\\n",
       "0                                Can't have sex the same  AdviceForTeens   \n",
       "1      How to break up with a friend in the most peac...  AdviceForTeens   \n",
       "2      [MODPOST] [META] Lets bring this subreddit bac...  AdviceForTeens   \n",
       "3      The most important thing when texting a girl i...  AdviceForTeens   \n",
       "4                             My dad found my porn, help  AdviceForTeens   \n",
       "...                                                  ...             ...   \n",
       "37575  This thread is one of the most goddamn infuria...     YouthRights   \n",
       "37576  Youth baseball is better when you train with d...     YouthRights   \n",
       "37577     Under 35 Entrepreneur? Win a Re:LIFE Inc Prize     YouthRights   \n",
       "37578  How many years until we'll be ready for a 12-y...     YouthRights   \n",
       "37579                The Truth About Child Sexualization     YouthRights   \n",
       "\n",
       "                                                    Body  Upvotes  \\\n",
       "0      I'm in a relationship of 2 years, naturally be...       24   \n",
       "1      I’d love for us to slide off of each other but...       18   \n",
       "2      Hey everyone! I'm one of your friendly neighbo...       21   \n",
       "3      Here are some tips on how to text a girl and s...       18   \n",
       "4      So.. I got a virus onto my laptop so my dad de...       18   \n",
       "...                                                  ...      ...   \n",
       "37575                                                NaN        0   \n",
       "37576                                                NaN        0   \n",
       "37577                                                NaN        0   \n",
       "37578  I still like to let it sink in from time to ti...        0   \n",
       "37579  Suppose we defined all activities on the part ...        0   \n",
       "\n",
       "                                                Comments        creation_date  \\\n",
       "0      Have you tried trying your hardest to just con...  2020-03-03 12:39:21   \n",
       "1      there’s really two ways you can do this.\\r\\nth...  2020-03-01 20:44:48   \n",
       "2      Me: http://i.imgur.com/QqKyW.jpg\\r\\n\\r\\nI also...  2013-01-09 10:23:30   \n",
       "3                                                    NaN  2020-03-03 09:33:01   \n",
       "4      How old are you? If you’re of reasonable age, ...  2020-02-26 04:51:52   \n",
       "...                                                  ...                  ...   \n",
       "37575                                                NaN  2014-11-03 18:30:32   \n",
       "37576                                                NaN  2014-01-07 21:08:33   \n",
       "37577  IMO this has nothing to do \\nwith youth rights...  2011-09-20 14:42:42   \n",
       "37578  > the average 5th grader has access to the sam...  2013-01-21 03:09:56   \n",
       "37579  \"child sexualization\" asumes that children are...  2012-02-14 05:46:11   \n",
       "\n",
       "      is_original Text Sentiment  \n",
       "0             NaN  NaN       NaN  \n",
       "1             NaN  NaN       NaN  \n",
       "2             NaN  NaN       NaN  \n",
       "3             NaN  NaN       NaN  \n",
       "4             NaN  NaN       NaN  \n",
       "...           ...  ...       ...  \n",
       "37575         NaN  NaN       NaN  \n",
       "37576         NaN  NaN       NaN  \n",
       "37577         NaN  NaN       NaN  \n",
       "37578         NaN  NaN       NaN  \n",
       "37579         NaN  NaN       NaN  \n",
       "\n",
       "[37580 rows x 11 columns]"
      ]
     },
     "execution_count": 6,
     "metadata": {},
     "output_type": "execute_result"
    }
   ],
   "source": [
    "data = data.drop(columns=['Unnamed: 0', 'is_Original', 'Flair', 'URL'])\n",
    "data"
   ]
  },
  {
   "cell_type": "code",
   "execution_count": 7,
   "metadata": {},
   "outputs": [
    {
     "name": "stdout",
     "output_type": "stream",
     "text": [
      "<class 'pandas.core.frame.DataFrame'>\n",
      "RangeIndex: 37580 entries, 0 to 37579\n",
      "Data columns (total 11 columns):\n",
      " #   Column         Non-Null Count  Dtype  \n",
      "---  ------         --------------  -----  \n",
      " 0   ID             34712 non-null  object \n",
      " 1   num_comments   29179 non-null  float64\n",
      " 2   Title          29179 non-null  object \n",
      " 3   Subreddit      37580 non-null  object \n",
      " 4   Body           16405 non-null  object \n",
      " 5   Upvotes        37580 non-null  int64  \n",
      " 6   Comments       27163 non-null  object \n",
      " 7   creation_date  37580 non-null  object \n",
      " 8   is_original    2868 non-null   object \n",
      " 9   Text           8400 non-null   object \n",
      " 10  Sentiment      8401 non-null   object \n",
      "dtypes: float64(1), int64(1), object(9)\n",
      "memory usage: 3.2+ MB\n"
     ]
    }
   ],
   "source": [
    "data.info()"
   ]
  },
  {
   "cell_type": "code",
   "execution_count": 8,
   "metadata": {},
   "outputs": [
    {
     "data": {
      "text/plain": [
       "ID                2868\n",
       "num_comments      8401\n",
       "Title             8401\n",
       "Subreddit            0\n",
       "Body             21175\n",
       "Upvotes              0\n",
       "Comments         10417\n",
       "creation_date        0\n",
       "is_original      34712\n",
       "Text             29180\n",
       "Sentiment        29179\n",
       "dtype: int64"
      ]
     },
     "execution_count": 8,
     "metadata": {},
     "output_type": "execute_result"
    }
   ],
   "source": [
    "data.isnull().sum()"
   ]
  },
  {
   "cell_type": "code",
   "execution_count": 9,
   "metadata": {},
   "outputs": [
    {
     "data": {
      "text/html": [
       "<div>\n",
       "<style scoped>\n",
       "    .dataframe tbody tr th:only-of-type {\n",
       "        vertical-align: middle;\n",
       "    }\n",
       "\n",
       "    .dataframe tbody tr th {\n",
       "        vertical-align: top;\n",
       "    }\n",
       "\n",
       "    .dataframe thead th {\n",
       "        text-align: right;\n",
       "    }\n",
       "</style>\n",
       "<table border=\"1\" class=\"dataframe\">\n",
       "  <thead>\n",
       "    <tr style=\"text-align: right;\">\n",
       "      <th></th>\n",
       "      <th>ID</th>\n",
       "      <th>num_comments</th>\n",
       "      <th>Title</th>\n",
       "      <th>Subreddit</th>\n",
       "      <th>Body</th>\n",
       "      <th>Upvotes</th>\n",
       "      <th>Comments</th>\n",
       "      <th>creation_date</th>\n",
       "      <th>is_original</th>\n",
       "      <th>Text</th>\n",
       "      <th>Sentiment</th>\n",
       "    </tr>\n",
       "  </thead>\n",
       "  <tbody>\n",
       "    <tr>\n",
       "      <th>count</th>\n",
       "      <td>34712</td>\n",
       "      <td>29179.000000</td>\n",
       "      <td>29179</td>\n",
       "      <td>37580</td>\n",
       "      <td>16405</td>\n",
       "      <td>37580.000000</td>\n",
       "      <td>27163</td>\n",
       "      <td>37580</td>\n",
       "      <td>2868</td>\n",
       "      <td>8400</td>\n",
       "      <td>8401</td>\n",
       "    </tr>\n",
       "    <tr>\n",
       "      <th>unique</th>\n",
       "      <td>28336</td>\n",
       "      <td>NaN</td>\n",
       "      <td>28187</td>\n",
       "      <td>30</td>\n",
       "      <td>16158</td>\n",
       "      <td>NaN</td>\n",
       "      <td>22784</td>\n",
       "      <td>29174</td>\n",
       "      <td>2</td>\n",
       "      <td>8399</td>\n",
       "      <td>3</td>\n",
       "    </tr>\n",
       "    <tr>\n",
       "      <th>top</th>\n",
       "      <td>fcpbui</td>\n",
       "      <td>NaN</td>\n",
       "      <td>Top 10 Machine Learning Methods Explained in L...</td>\n",
       "      <td>jobs</td>\n",
       "      <td>.</td>\n",
       "      <td>NaN</td>\n",
       "      <td>[removed]</td>\n",
       "      <td>2020-03-03 01:26:23</td>\n",
       "      <td>False</td>\n",
       "      <td>new subreddit private institution watchdogs r ...</td>\n",
       "      <td>positive</td>\n",
       "    </tr>\n",
       "    <tr>\n",
       "      <th>freq</th>\n",
       "      <td>2</td>\n",
       "      <td>NaN</td>\n",
       "      <td>6</td>\n",
       "      <td>4990</td>\n",
       "      <td>7</td>\n",
       "      <td>NaN</td>\n",
       "      <td>2175</td>\n",
       "      <td>3</td>\n",
       "      <td>2867</td>\n",
       "      <td>2</td>\n",
       "      <td>5227</td>\n",
       "    </tr>\n",
       "    <tr>\n",
       "      <th>mean</th>\n",
       "      <td>NaN</td>\n",
       "      <td>163.882004</td>\n",
       "      <td>NaN</td>\n",
       "      <td>NaN</td>\n",
       "      <td>NaN</td>\n",
       "      <td>3021.694093</td>\n",
       "      <td>NaN</td>\n",
       "      <td>NaN</td>\n",
       "      <td>NaN</td>\n",
       "      <td>NaN</td>\n",
       "      <td>NaN</td>\n",
       "    </tr>\n",
       "    <tr>\n",
       "      <th>std</th>\n",
       "      <td>NaN</td>\n",
       "      <td>492.927243</td>\n",
       "      <td>NaN</td>\n",
       "      <td>NaN</td>\n",
       "      <td>NaN</td>\n",
       "      <td>11563.837167</td>\n",
       "      <td>NaN</td>\n",
       "      <td>NaN</td>\n",
       "      <td>NaN</td>\n",
       "      <td>NaN</td>\n",
       "      <td>NaN</td>\n",
       "    </tr>\n",
       "    <tr>\n",
       "      <th>min</th>\n",
       "      <td>NaN</td>\n",
       "      <td>0.000000</td>\n",
       "      <td>NaN</td>\n",
       "      <td>NaN</td>\n",
       "      <td>NaN</td>\n",
       "      <td>0.000000</td>\n",
       "      <td>NaN</td>\n",
       "      <td>NaN</td>\n",
       "      <td>NaN</td>\n",
       "      <td>NaN</td>\n",
       "      <td>NaN</td>\n",
       "    </tr>\n",
       "    <tr>\n",
       "      <th>25%</th>\n",
       "      <td>NaN</td>\n",
       "      <td>7.000000</td>\n",
       "      <td>NaN</td>\n",
       "      <td>NaN</td>\n",
       "      <td>NaN</td>\n",
       "      <td>5.000000</td>\n",
       "      <td>NaN</td>\n",
       "      <td>NaN</td>\n",
       "      <td>NaN</td>\n",
       "      <td>NaN</td>\n",
       "      <td>NaN</td>\n",
       "    </tr>\n",
       "    <tr>\n",
       "      <th>50%</th>\n",
       "      <td>NaN</td>\n",
       "      <td>42.000000</td>\n",
       "      <td>NaN</td>\n",
       "      <td>NaN</td>\n",
       "      <td>NaN</td>\n",
       "      <td>130.000000</td>\n",
       "      <td>NaN</td>\n",
       "      <td>NaN</td>\n",
       "      <td>NaN</td>\n",
       "      <td>NaN</td>\n",
       "      <td>NaN</td>\n",
       "    </tr>\n",
       "    <tr>\n",
       "      <th>75%</th>\n",
       "      <td>NaN</td>\n",
       "      <td>116.000000</td>\n",
       "      <td>NaN</td>\n",
       "      <td>NaN</td>\n",
       "      <td>NaN</td>\n",
       "      <td>718.000000</td>\n",
       "      <td>NaN</td>\n",
       "      <td>NaN</td>\n",
       "      <td>NaN</td>\n",
       "      <td>NaN</td>\n",
       "      <td>NaN</td>\n",
       "    </tr>\n",
       "    <tr>\n",
       "      <th>max</th>\n",
       "      <td>NaN</td>\n",
       "      <td>15433.000000</td>\n",
       "      <td>NaN</td>\n",
       "      <td>NaN</td>\n",
       "      <td>NaN</td>\n",
       "      <td>199296.000000</td>\n",
       "      <td>NaN</td>\n",
       "      <td>NaN</td>\n",
       "      <td>NaN</td>\n",
       "      <td>NaN</td>\n",
       "      <td>NaN</td>\n",
       "    </tr>\n",
       "  </tbody>\n",
       "</table>\n",
       "</div>"
      ],
      "text/plain": [
       "            ID  num_comments  \\\n",
       "count    34712  29179.000000   \n",
       "unique   28336           NaN   \n",
       "top     fcpbui           NaN   \n",
       "freq         2           NaN   \n",
       "mean       NaN    163.882004   \n",
       "std        NaN    492.927243   \n",
       "min        NaN      0.000000   \n",
       "25%        NaN      7.000000   \n",
       "50%        NaN     42.000000   \n",
       "75%        NaN    116.000000   \n",
       "max        NaN  15433.000000   \n",
       "\n",
       "                                                    Title Subreddit   Body  \\\n",
       "count                                               29179     37580  16405   \n",
       "unique                                              28187        30  16158   \n",
       "top     Top 10 Machine Learning Methods Explained in L...      jobs      .   \n",
       "freq                                                    6      4990      7   \n",
       "mean                                                  NaN       NaN    NaN   \n",
       "std                                                   NaN       NaN    NaN   \n",
       "min                                                   NaN       NaN    NaN   \n",
       "25%                                                   NaN       NaN    NaN   \n",
       "50%                                                   NaN       NaN    NaN   \n",
       "75%                                                   NaN       NaN    NaN   \n",
       "max                                                   NaN       NaN    NaN   \n",
       "\n",
       "              Upvotes    Comments        creation_date is_original  \\\n",
       "count    37580.000000       27163                37580        2868   \n",
       "unique            NaN       22784                29174           2   \n",
       "top               NaN  [removed]   2020-03-03 01:26:23       False   \n",
       "freq              NaN        2175                    3        2867   \n",
       "mean      3021.694093         NaN                  NaN         NaN   \n",
       "std      11563.837167         NaN                  NaN         NaN   \n",
       "min          0.000000         NaN                  NaN         NaN   \n",
       "25%          5.000000         NaN                  NaN         NaN   \n",
       "50%        130.000000         NaN                  NaN         NaN   \n",
       "75%        718.000000         NaN                  NaN         NaN   \n",
       "max     199296.000000         NaN                  NaN         NaN   \n",
       "\n",
       "                                                     Text Sentiment  \n",
       "count                                                8400      8401  \n",
       "unique                                               8399         3  \n",
       "top     new subreddit private institution watchdogs r ...  positive  \n",
       "freq                                                    2      5227  \n",
       "mean                                                  NaN       NaN  \n",
       "std                                                   NaN       NaN  \n",
       "min                                                   NaN       NaN  \n",
       "25%                                                   NaN       NaN  \n",
       "50%                                                   NaN       NaN  \n",
       "75%                                                   NaN       NaN  \n",
       "max                                                   NaN       NaN  "
      ]
     },
     "execution_count": 9,
     "metadata": {},
     "output_type": "execute_result"
    }
   ],
   "source": [
    "data.describe(include='all')"
   ]
  },
  {
   "cell_type": "code",
   "execution_count": 10,
   "metadata": {},
   "outputs": [],
   "source": [
    "data[\"Title\"].fillna(\"Null\", inplace = True)\n",
    "data[\"Body\"].fillna(\"Null\", inplace = True)\n",
    "data[\"Comments\"].fillna(\"Null\", inplace = True)"
   ]
  },
  {
   "cell_type": "code",
   "execution_count": 11,
   "metadata": {},
   "outputs": [
    {
     "data": {
      "text/plain": [
       "ID                2868\n",
       "num_comments      8401\n",
       "Title                0\n",
       "Subreddit            0\n",
       "Body                 0\n",
       "Upvotes              0\n",
       "Comments             0\n",
       "creation_date        0\n",
       "is_original      34712\n",
       "Text             29180\n",
       "Sentiment        29179\n",
       "dtype: int64"
      ]
     },
     "execution_count": 11,
     "metadata": {},
     "output_type": "execute_result"
    }
   ],
   "source": [
    "data.isnull().sum()"
   ]
  },
  {
   "cell_type": "code",
   "execution_count": 12,
   "metadata": {},
   "outputs": [],
   "source": [
    "ps = nltk.PorterStemmer()\n",
    "wn = nltk.WordNetLemmatizer()\n",
    "stopwords = nltk.corpus.stopwords.words('english')"
   ]
  },
  {
   "cell_type": "code",
   "execution_count": 13,
   "metadata": {},
   "outputs": [
    {
     "name": "stderr",
     "output_type": "stream",
     "text": [
      "<>:3: SyntaxWarning: invalid escape sequence '\\W'\n",
      "<>:3: SyntaxWarning: invalid escape sequence '\\W'\n",
      "C:\\Users\\aryan\\AppData\\Local\\Temp\\ipykernel_19580\\2602690433.py:3: SyntaxWarning: invalid escape sequence '\\W'\n",
      "  tokens = re.split('\\W+', text)\n"
     ]
    }
   ],
   "source": [
    "def clean_text(text):\n",
    "    text = \"\".join([word.lower() for word in text if word not in string.punctuation])\n",
    "    tokens = re.split('\\W+', text)\n",
    "    text = [ps.stem(word) for word in tokens if word not in stopwords]\n",
    "    text = [wn.lemmatize(word) for word in text if word not in stopwords]\n",
    "    return text"
   ]
  },
  {
   "cell_type": "code",
   "execution_count": 17,
   "metadata": {},
   "outputs": [],
   "source": [
    "data['cleaned_Title'] = data['Title'].apply(lambda x: clean_text(x))\n",
    "data['cleaned_Body'] = data['Body'].apply(lambda x: clean_text(x))\n",
    "data['Cleaned_Comments'] = data['Comments'].apply(lambda x: clean_text(x))"
   ]
  },
  {
   "cell_type": "code",
   "execution_count": 14,
   "metadata": {},
   "outputs": [
    {
     "data": {
      "text/html": [
       "<div>\n",
       "<style scoped>\n",
       "    .dataframe tbody tr th:only-of-type {\n",
       "        vertical-align: middle;\n",
       "    }\n",
       "\n",
       "    .dataframe tbody tr th {\n",
       "        vertical-align: top;\n",
       "    }\n",
       "\n",
       "    .dataframe thead th {\n",
       "        text-align: right;\n",
       "    }\n",
       "</style>\n",
       "<table border=\"1\" class=\"dataframe\">\n",
       "  <thead>\n",
       "    <tr style=\"text-align: right;\">\n",
       "      <th></th>\n",
       "      <th>ID</th>\n",
       "      <th>num_comments</th>\n",
       "      <th>Title</th>\n",
       "      <th>Subreddit</th>\n",
       "      <th>Body</th>\n",
       "      <th>Upvotes</th>\n",
       "      <th>Comments</th>\n",
       "      <th>creation_date</th>\n",
       "      <th>is_original</th>\n",
       "      <th>Text</th>\n",
       "      <th>Sentiment</th>\n",
       "    </tr>\n",
       "  </thead>\n",
       "  <tbody>\n",
       "    <tr>\n",
       "      <th>0</th>\n",
       "      <td>fcpbui</td>\n",
       "      <td>13.0</td>\n",
       "      <td>Can't have sex the same</td>\n",
       "      <td>AdviceForTeens</td>\n",
       "      <td>I'm in a relationship of 2 years, naturally be...</td>\n",
       "      <td>24</td>\n",
       "      <td>Have you tried trying your hardest to just con...</td>\n",
       "      <td>2020-03-03 12:39:21</td>\n",
       "      <td>NaN</td>\n",
       "      <td>NaN</td>\n",
       "      <td>NaN</td>\n",
       "    </tr>\n",
       "    <tr>\n",
       "      <th>1</th>\n",
       "      <td>fbtk1w</td>\n",
       "      <td>3.0</td>\n",
       "      <td>How to break up with a friend in the most peac...</td>\n",
       "      <td>AdviceForTeens</td>\n",
       "      <td>I’d love for us to slide off of each other but...</td>\n",
       "      <td>18</td>\n",
       "      <td>there’s really two ways you can do this.\\r\\nth...</td>\n",
       "      <td>2020-03-01 20:44:48</td>\n",
       "      <td>NaN</td>\n",
       "      <td>NaN</td>\n",
       "      <td>NaN</td>\n",
       "    </tr>\n",
       "    <tr>\n",
       "      <th>2</th>\n",
       "      <td>1681jg</td>\n",
       "      <td>4.0</td>\n",
       "      <td>[MODPOST] [META] Lets bring this subreddit bac...</td>\n",
       "      <td>AdviceForTeens</td>\n",
       "      <td>Hey everyone! I'm one of your friendly neighbo...</td>\n",
       "      <td>21</td>\n",
       "      <td>Me: http://i.imgur.com/QqKyW.jpg\\r\\n\\r\\nI also...</td>\n",
       "      <td>2013-01-09 10:23:30</td>\n",
       "      <td>NaN</td>\n",
       "      <td>NaN</td>\n",
       "      <td>NaN</td>\n",
       "    </tr>\n",
       "    <tr>\n",
       "      <th>3</th>\n",
       "      <td>fcmxds</td>\n",
       "      <td>0.0</td>\n",
       "      <td>The most important thing when texting a girl i...</td>\n",
       "      <td>AdviceForTeens</td>\n",
       "      <td>Here are some tips on how to text a girl and s...</td>\n",
       "      <td>18</td>\n",
       "      <td>Null</td>\n",
       "      <td>2020-03-03 09:33:01</td>\n",
       "      <td>NaN</td>\n",
       "      <td>NaN</td>\n",
       "      <td>NaN</td>\n",
       "    </tr>\n",
       "    <tr>\n",
       "      <th>4</th>\n",
       "      <td>f9gz1a</td>\n",
       "      <td>15.0</td>\n",
       "      <td>My dad found my porn, help</td>\n",
       "      <td>AdviceForTeens</td>\n",
       "      <td>So.. I got a virus onto my laptop so my dad de...</td>\n",
       "      <td>18</td>\n",
       "      <td>How old are you? If you’re of reasonable age, ...</td>\n",
       "      <td>2020-02-26 04:51:52</td>\n",
       "      <td>NaN</td>\n",
       "      <td>NaN</td>\n",
       "      <td>NaN</td>\n",
       "    </tr>\n",
       "  </tbody>\n",
       "</table>\n",
       "</div>"
      ],
      "text/plain": [
       "       ID  num_comments                                              Title  \\\n",
       "0  fcpbui          13.0                            Can't have sex the same   \n",
       "1  fbtk1w           3.0  How to break up with a friend in the most peac...   \n",
       "2  1681jg           4.0  [MODPOST] [META] Lets bring this subreddit bac...   \n",
       "3  fcmxds           0.0  The most important thing when texting a girl i...   \n",
       "4  f9gz1a          15.0                         My dad found my porn, help   \n",
       "\n",
       "        Subreddit                                               Body  Upvotes  \\\n",
       "0  AdviceForTeens  I'm in a relationship of 2 years, naturally be...       24   \n",
       "1  AdviceForTeens  I’d love for us to slide off of each other but...       18   \n",
       "2  AdviceForTeens  Hey everyone! I'm one of your friendly neighbo...       21   \n",
       "3  AdviceForTeens  Here are some tips on how to text a girl and s...       18   \n",
       "4  AdviceForTeens  So.. I got a virus onto my laptop so my dad de...       18   \n",
       "\n",
       "                                            Comments        creation_date  \\\n",
       "0  Have you tried trying your hardest to just con...  2020-03-03 12:39:21   \n",
       "1  there’s really two ways you can do this.\\r\\nth...  2020-03-01 20:44:48   \n",
       "2  Me: http://i.imgur.com/QqKyW.jpg\\r\\n\\r\\nI also...  2013-01-09 10:23:30   \n",
       "3                                               Null  2020-03-03 09:33:01   \n",
       "4  How old are you? If you’re of reasonable age, ...  2020-02-26 04:51:52   \n",
       "\n",
       "  is_original Text Sentiment  \n",
       "0         NaN  NaN       NaN  \n",
       "1         NaN  NaN       NaN  \n",
       "2         NaN  NaN       NaN  \n",
       "3         NaN  NaN       NaN  \n",
       "4         NaN  NaN       NaN  "
      ]
     },
     "execution_count": 14,
     "metadata": {},
     "output_type": "execute_result"
    }
   ],
   "source": [
    "data.head()"
   ]
  },
  {
   "cell_type": "code",
   "execution_count": 15,
   "metadata": {},
   "outputs": [
    {
     "data": {
      "image/png": "[encoded data removed]",
      "text/plain": [
       "<Figure size 1000x600 with 1 Axes>"
      ]
     },
     "metadata": {},
     "output_type": "display_data"
    }
   ],
   "source": [
    "plt.figure(figsize=(10, 6))\n",
    "data['Subreddit'].value_counts().plot(kind='bar')\n",
    "plt.title('Subreddit Count')\n",
    "plt.xlabel('Subreddit')\n",
    "plt.ylabel('Count')\n",
    "plt.show()"
   ]
  },
  {
   "cell_type": "code",
   "execution_count": 16,
   "metadata": {},
   "outputs": [
    {
     "data": {
      "text/plain": [
       "Subreddit\n",
       "AdviceForTeens           2593.0\n",
       "Anxiety                113242.0\n",
       "ApplyingToCollege      104089.0\n",
       "COVID19                161204.0\n",
       "Colombia                20591.0\n",
       "Entrepreneur           196313.0\n",
       "Feminism                79561.0\n",
       "GradSchool               7584.0\n",
       "NeutralPolitics        220603.0\n",
       "SuicideWatch            59763.0\n",
       "YouthRights              2347.0\n",
       "YouthandGovernment         60.0\n",
       "astrology               59835.0\n",
       "business               145545.0\n",
       "careerguidance          63286.0\n",
       "college                217937.0\n",
       "computerscience          8257.0\n",
       "dating                 134556.0\n",
       "depression_help         17303.0\n",
       "engineering             87019.0\n",
       "highschool              10730.0\n",
       "jobs                    32740.0\n",
       "kidsrights                247.0\n",
       "mexico                 110180.0\n",
       "povertyfinance         194114.0\n",
       "science               1917108.0\n",
       "studentaffairs           3540.0\n",
       "teenagers              804007.0\n",
       "whatsbotheringyou        7503.0\n",
       "youthshouldknow            56.0\n",
       "Name: num_comments, dtype: float64"
      ]
     },
     "execution_count": 16,
     "metadata": {},
     "output_type": "execute_result"
    }
   ],
   "source": [
    "num_comments = data.groupby('Subreddit')['num_comments'].sum()\n",
    "num_comments"
   ]
  },
  {
   "cell_type": "code",
   "execution_count": 17,
   "metadata": {},
   "outputs": [
    {
     "data": {
      "image/png": "[encoded data removed]",
      "text/plain": [
       "<Figure size 1000x600 with 1 Axes>"
      ]
     },
     "metadata": {},
     "output_type": "display_data"
    }
   ],
   "source": [
    "plt.figure(figsize=(10, 6))\n",
    "num_comments.plot(kind='bar')\n",
    "plt.title('Subreddit Comments')\n",
    "plt.xlabel('Subreddit')\n",
    "plt.ylabel('Comments')\n",
    "plt.show()"
   ]
  },
  {
   "cell_type": "code",
   "execution_count": 18,
   "metadata": {},
   "outputs": [
    {
     "data": {
      "text/plain": [
       "Subreddit\n",
       "AdviceForTeens            4630\n",
       "Anxiety                1086186\n",
       "ApplyingToCollege      1729804\n",
       "COVID19                 568621\n",
       "Colombia                135881\n",
       "Entrepreneur            760330\n",
       "Feminism               1200134\n",
       "GradSchool               38720\n",
       "NeutralPolitics         566904\n",
       "SuicideWatch            467616\n",
       "YouthRights              16112\n",
       "YouthandGovernment         138\n",
       "astrology               280443\n",
       "business                864529\n",
       "careerguidance          154098\n",
       "college                2109352\n",
       "computerscience          37687\n",
       "dating                  482650\n",
       "depression_help         100644\n",
       "engineering             727678\n",
       "highschool              121666\n",
       "jobs                    111286\n",
       "kidsrights                2790\n",
       "mexico                 1280497\n",
       "povertyfinance         3653765\n",
       "science               48419100\n",
       "studentaffairs            8262\n",
       "teenagers             48609451\n",
       "whatsbotheringyou        16004\n",
       "youthshouldknow            286\n",
       "Name: Upvotes, dtype: int64"
      ]
     },
     "execution_count": 18,
     "metadata": {},
     "output_type": "execute_result"
    }
   ],
   "source": [
    "original_data = data.groupby('Subreddit')['Upvotes'].sum()\n",
    "original_data"
   ]
  },
  {
   "cell_type": "code",
   "execution_count": 19,
   "metadata": {},
   "outputs": [
    {
     "data": {
      "text/plain": [
       "<Axes: >"
      ]
     },
     "execution_count": 19,
     "metadata": {},
     "output_type": "execute_result"
    },
    {
     "data": {
      "image/png": "[encoded data removed]",
      "text/plain": [
       "<Figure size 640x480 with 1 Axes>"
      ]
     },
     "metadata": {},
     "output_type": "display_data"
    }
   ],
   "source": [
    "data.boxplot()"
   ]
  },
  {
   "cell_type": "code",
   "execution_count": 20,
   "metadata": {},
   "outputs": [],
   "source": [
    "from nltk.sentiment.vader import SentimentIntensityAnalyzer\n",
    "analyzer = SentimentIntensityAnalyzer()\n",
    "def sentiment_analyzer_scores(text):\n",
    "    scores = analyzer.polarity_scores(text)\n",
    "    if scores['compound'] >= 0.05 :\n",
    "        Sentiment = 'Positive'\n",
    "    elif scores['compound'] <= -0.05 :\n",
    "        Sentiment = 'Negative'\n",
    "    else :\n",
    "        Sentiment = 'Neutral'\n",
    "    return Sentiment"
   ]
  },
  {
   "cell_type": "code",
   "execution_count": 21,
   "metadata": {},
   "outputs": [
    {
     "data": {
      "text/html": [
       "<div>\n",
       "<style scoped>\n",
       "    .dataframe tbody tr th:only-of-type {\n",
       "        vertical-align: middle;\n",
       "    }\n",
       "\n",
       "    .dataframe tbody tr th {\n",
       "        vertical-align: top;\n",
       "    }\n",
       "\n",
       "    .dataframe thead th {\n",
       "        text-align: right;\n",
       "    }\n",
       "</style>\n",
       "<table border=\"1\" class=\"dataframe\">\n",
       "  <thead>\n",
       "    <tr style=\"text-align: right;\">\n",
       "      <th></th>\n",
       "      <th>Title</th>\n",
       "      <th>Title_Sentiment</th>\n",
       "    </tr>\n",
       "  </thead>\n",
       "  <tbody>\n",
       "    <tr>\n",
       "      <th>0</th>\n",
       "      <td>Can't have sex the same</td>\n",
       "      <td>Neutral</td>\n",
       "    </tr>\n",
       "    <tr>\n",
       "      <th>1</th>\n",
       "      <td>How to break up with a friend in the most peac...</td>\n",
       "      <td>Positive</td>\n",
       "    </tr>\n",
       "    <tr>\n",
       "      <th>2</th>\n",
       "      <td>[MODPOST] [META] Lets bring this subreddit bac...</td>\n",
       "      <td>Negative</td>\n",
       "    </tr>\n",
       "    <tr>\n",
       "      <th>3</th>\n",
       "      <td>The most important thing when texting a girl i...</td>\n",
       "      <td>Negative</td>\n",
       "    </tr>\n",
       "    <tr>\n",
       "      <th>4</th>\n",
       "      <td>My dad found my porn, help</td>\n",
       "      <td>Positive</td>\n",
       "    </tr>\n",
       "  </tbody>\n",
       "</table>\n",
       "</div>"
      ],
      "text/plain": [
       "                                               Title Title_Sentiment\n",
       "0                            Can't have sex the same         Neutral\n",
       "1  How to break up with a friend in the most peac...        Positive\n",
       "2  [MODPOST] [META] Lets bring this subreddit bac...        Negative\n",
       "3  The most important thing when texting a girl i...        Negative\n",
       "4                         My dad found my porn, help        Positive"
      ]
     },
     "execution_count": 21,
     "metadata": {},
     "output_type": "execute_result"
    }
   ],
   "source": [
    "data['Title_Sentiment'] = data['Title'].apply(sentiment_analyzer_scores)\n",
    "data[['Title', 'Title_Sentiment']].head()"
   ]
  },
  {
   "cell_type": "code",
   "execution_count": 22,
   "metadata": {},
   "outputs": [
    {
     "data": {
      "text/plain": [
       "Title_Sentiment\n",
       "Neutral     20253\n",
       "Positive     8756\n",
       "Negative     8571\n",
       "Name: count, dtype: int64"
      ]
     },
     "execution_count": 22,
     "metadata": {},
     "output_type": "execute_result"
    }
   ],
   "source": [
    "data['Title_Sentiment'].value_counts()"
   ]
  },
  {
   "cell_type": "code",
   "execution_count": 23,
   "metadata": {},
   "outputs": [
    {
     "data": {
      "image/png": "[encoded data removed]",
      "text/plain": [
       "<Figure size 1000x600 with 1 Axes>"
      ]
     },
     "metadata": {},
     "output_type": "display_data"
    }
   ],
   "source": [
    "plt.figure(figsize=(10, 6))\n",
    "data['Title_Sentiment'].value_counts().plot(kind='pie', autopct='%1.1f%%')\n",
    "plt.title('Sentiment Analysis of Title')\n",
    "plt.show()"
   ]
  },
  {
   "cell_type": "code",
   "execution_count": 24,
   "metadata": {},
   "outputs": [],
   "source": [
    "import spacy\n",
    "from spacy import displacy\n",
    "\n",
    "NER = spacy.load(\"en_core_web_lg\")"
   ]
  },
  {
   "cell_type": "code",
   "execution_count": 25,
   "metadata": {},
   "outputs": [],
   "source": [
    "text1 = data['Title'].apply(lambda x: NER(x))"
   ]
  },
  {
   "cell_type": "code",
   "execution_count": 32,
   "metadata": {},
   "outputs": [
    {
     "data": {
      "text/html": [
       "<span class=\"tex2jax_ignore\"><div class=\"entities\" style=\"line-height: 2.5; direction: ltr\">How to break up with a friend in the most peaceful way possible?</div></span>"
      ],
      "text/plain": [
       "<IPython.core.display.HTML object>"
      ]
     },
     "metadata": {},
     "output_type": "display_data"
    }
   ],
   "source": [
    "for i in text1:\n",
    "    displacy.render(i, style='ent', jupyter=True)"
   ]
  },
  {
   "cell_type": "code",
   "execution_count": null,
   "metadata": {},
   "outputs": [
    {
     "name": "stdout",
     "output_type": "stream",
     "text": [
      "Collecting bertopic\n",
      "  Downloading bertopic-0.16.4-py3-none-any.whl.metadata (23 kB)\n",
      "Collecting hdbscan>=0.8.29 (from bertopic)\n",
      "  Downloading hdbscan-0.8.40-cp312-cp312-win_amd64.whl.metadata (15 kB)\n",
      "Requirement already satisfied: numpy>=1.20.0 in c:\\users\\aryan\\appdata\\local\\programs\\python\\python312\\lib\\site-packages (from bertopic) (1.26.2)\n",
      "Requirement already satisfied: pandas>=1.1.5 in c:\\users\\aryan\\appdata\\local\\programs\\python\\python312\\lib\\site-packages (from bertopic) (2.1.4)\n",
      "Collecting plotly>=4.7.0 (from bertopic)\n",
      "  Downloading plotly-6.0.0-py3-none-any.whl.metadata (5.6 kB)\n",
      "Requirement already satisfied: scikit-learn>=0.22.2.post1 in c:\\users\\aryan\\appdata\\local\\programs\\python\\python312\\lib\\site-packages (from bertopic) (1.5.2)\n",
      "Collecting sentence-transformers>=0.4.1 (from bertopic)\n",
      "  Downloading sentence_transformers-3.4.1-py3-none-any.whl.metadata (10 kB)\n",
      "Requirement already satisfied: tqdm>=4.41.1 in c:\\users\\aryan\\appdata\\local\\programs\\python\\python312\\lib\\site-packages (from bertopic) (4.66.5)\n",
      "Collecting umap-learn>=0.5.0 (from bertopic)\n",
      "  Downloading umap_learn-0.5.7-py3-none-any.whl.metadata (21 kB)\n",
      "Requirement already satisfied: scipy>=1.0 in c:\\users\\aryan\\appdata\\local\\programs\\python\\python312\\lib\\site-packages (from hdbscan>=0.8.29->bertopic) (1.14.1)\n",
      "Requirement already satisfied: joblib>=1.0 in c:\\users\\aryan\\appdata\\local\\programs\\python\\python312\\lib\\site-packages (from hdbscan>=0.8.29->bertopic) (1.4.2)\n",
      "Requirement already satisfied: python-dateutil>=2.8.2 in c:\\users\\aryan\\appdata\\local\\programs\\python\\python312\\lib\\site-packages (from pandas>=1.1.5->bertopic) (2.8.2)\n",
      "Requirement already satisfied: pytz>=2020.1 in c:\\users\\aryan\\appdata\\local\\programs\\python\\python312\\lib\\site-packages (from pandas>=1.1.5->bertopic) (2023.3.post1)\n",
      "Requirement already satisfied: tzdata>=2022.1 in c:\\users\\aryan\\appdata\\local\\programs\\python\\python312\\lib\\site-packages (from pandas>=1.1.5->bertopic) (2023.3)\n",
      "Requirement already satisfied: narwhals>=1.15.1 in c:\\users\\aryan\\appdata\\local\\programs\\python\\python312\\lib\\site-packages (from plotly>=4.7.0->bertopic) (1.22.0)\n",
      "Requirement already satisfied: packaging in c:\\users\\aryan\\appdata\\local\\programs\\python\\python312\\lib\\site-packages (from plotly>=4.7.0->bertopic) (23.2)\n",
      "Requirement already satisfied: threadpoolctl>=3.1.0 in c:\\users\\aryan\\appdata\\local\\programs\\python\\python312\\lib\\site-packages (from scikit-learn>=0.22.2.post1->bertopic) (3.5.0)\n",
      "Requirement already satisfied: transformers<5.0.0,>=4.41.0 in c:\\users\\aryan\\appdata\\local\\programs\\python\\python312\\lib\\site-packages (from sentence-transformers>=0.4.1->bertopic) (4.46.0)\n",
      "Requirement already satisfied: torch>=1.11.0 in c:\\users\\aryan\\appdata\\local\\programs\\python\\python312\\lib\\site-packages (from sentence-transformers>=0.4.1->bertopic) (2.5.0+cu118)\n",
      "Requirement already satisfied: huggingface-hub>=0.20.0 in c:\\users\\aryan\\appdata\\local\\programs\\python\\python312\\lib\\site-packages (from sentence-transformers>=0.4.1->bertopic) (0.26.1)\n",
      "Requirement already satisfied: Pillow in c:\\users\\aryan\\appdata\\local\\programs\\python\\python312\\lib\\site-packages (from sentence-transformers>=0.4.1->bertopic) (10.1.0)\n",
      "Requirement already satisfied: colorama in c:\\users\\aryan\\appdata\\local\\programs\\python\\python312\\lib\\site-packages (from tqdm>=4.41.1->bertopic) (0.4.6)\n",
      "Collecting numba>=0.51.2 (from umap-learn>=0.5.0->bertopic)\n",
      "  Downloading numba-0.61.0-cp312-cp312-win_amd64.whl.metadata (2.8 kB)\n",
      "Collecting pynndescent>=0.5 (from umap-learn>=0.5.0->bertopic)\n",
      "  Downloading pynndescent-0.5.13-py3-none-any.whl.metadata (6.8 kB)\n",
      "Requirement already satisfied: filelock in c:\\users\\aryan\\appdata\\local\\programs\\python\\python312\\lib\\site-packages (from huggingface-hub>=0.20.0->sentence-transformers>=0.4.1->bertopic) (3.16.1)\n",
      "Requirement already satisfied: fsspec>=2023.5.0 in c:\\users\\aryan\\appdata\\local\\programs\\python\\python312\\lib\\site-packages (from huggingface-hub>=0.20.0->sentence-transformers>=0.4.1->bertopic) (2024.10.0)\n",
      "Requirement already satisfied: pyyaml>=5.1 in c:\\users\\aryan\\appdata\\local\\programs\\python\\python312\\lib\\site-packages (from huggingface-hub>=0.20.0->sentence-transformers>=0.4.1->bertopic) (6.0.2)\n",
      "Requirement already satisfied: requests in c:\\users\\aryan\\appdata\\local\\programs\\python\\python312\\lib\\site-packages (from huggingface-hub>=0.20.0->sentence-transformers>=0.4.1->bertopic) (2.31.0)\n",
      "Requirement already satisfied: typing-extensions>=3.7.4.3 in c:\\users\\aryan\\appdata\\local\\programs\\python\\python312\\lib\\site-packages (from huggingface-hub>=0.20.0->sentence-transformers>=0.4.1->bertopic) (4.10.0)\n",
      "Collecting llvmlite<0.45,>=0.44.0dev0 (from numba>=0.51.2->umap-learn>=0.5.0->bertopic)\n",
      "  Downloading llvmlite-0.44.0-cp312-cp312-win_amd64.whl.metadata (5.0 kB)\n",
      "Requirement already satisfied: six>=1.5 in c:\\users\\aryan\\appdata\\local\\programs\\python\\python312\\lib\\site-packages (from python-dateutil>=2.8.2->pandas>=1.1.5->bertopic) (1.16.0)\n",
      "Requirement already satisfied: networkx in c:\\users\\aryan\\appdata\\local\\programs\\python\\python312\\lib\\site-packages (from torch>=1.11.0->sentence-transformers>=0.4.1->bertopic) (3.2.1)\n",
      "Requirement already satisfied: jinja2 in c:\\users\\aryan\\appdata\\local\\programs\\python\\python312\\lib\\site-packages (from torch>=1.11.0->sentence-transformers>=0.4.1->bertopic) (3.1.2)\n",
      "Requirement already satisfied: setuptools in c:\\users\\aryan\\appdata\\local\\programs\\python\\python312\\lib\\site-packages (from torch>=1.11.0->sentence-transformers>=0.4.1->bertopic) (69.2.0)\n",
      "Requirement already satisfied: sympy==1.13.1 in c:\\users\\aryan\\appdata\\local\\programs\\python\\python312\\lib\\site-packages (from torch>=1.11.0->sentence-transformers>=0.4.1->bertopic) (1.13.1)\n",
      "Requirement already satisfied: mpmath<1.4,>=1.1.0 in c:\\users\\aryan\\appdata\\local\\programs\\python\\python312\\lib\\site-packages (from sympy==1.13.1->torch>=1.11.0->sentence-transformers>=0.4.1->bertopic) (1.3.0)\n",
      "Requirement already satisfied: regex!=2019.12.17 in c:\\users\\aryan\\appdata\\local\\programs\\python\\python312\\lib\\site-packages (from transformers<5.0.0,>=4.41.0->sentence-transformers>=0.4.1->bertopic) (2024.9.11)\n",
      "Requirement already satisfied: safetensors>=0.4.1 in c:\\users\\aryan\\appdata\\local\\programs\\python\\python312\\lib\\site-packages (from transformers<5.0.0,>=4.41.0->sentence-transformers>=0.4.1->bertopic) (0.4.5)\n",
      "Requirement already satisfied: tokenizers<0.21,>=0.20 in c:\\users\\aryan\\appdata\\local\\programs\\python\\python312\\lib\\site-packages (from transformers<5.0.0,>=4.41.0->sentence-transformers>=0.4.1->bertopic) (0.20.1)\n",
      "Requirement already satisfied: MarkupSafe>=2.0 in c:\\users\\aryan\\appdata\\local\\programs\\python\\python312\\lib\\site-packages (from jinja2->torch>=1.11.0->sentence-transformers>=0.4.1->bertopic) (2.1.3)\n",
      "Requirement already satisfied: charset-normalizer<4,>=2 in c:\\users\\aryan\\appdata\\local\\programs\\python\\python312\\lib\\site-packages (from requests->huggingface-hub>=0.20.0->sentence-transformers>=0.4.1->bertopic) (3.3.2)\n",
      "Requirement already satisfied: idna<4,>=2.5 in c:\\users\\aryan\\appdata\\local\\programs\\python\\python312\\lib\\site-packages (from requests->huggingface-hub>=0.20.0->sentence-transformers>=0.4.1->bertopic) (3.6)\n",
      "Requirement already satisfied: urllib3<3,>=1.21.1 in c:\\users\\aryan\\appdata\\local\\programs\\python\\python312\\lib\\site-packages (from requests->huggingface-hub>=0.20.0->sentence-transformers>=0.4.1->bertopic) (2.2.1)\n",
      "Requirement already satisfied: certifi>=2017.4.17 in c:\\users\\aryan\\appdata\\local\\programs\\python\\python312\\lib\\site-packages (from requests->huggingface-hub>=0.20.0->sentence-transformers>=0.4.1->bertopic) (2024.2.2)\n",
      "Downloading bertopic-0.16.4-py3-none-any.whl (143 kB)\n",
      "Downloading hdbscan-0.8.40-cp312-cp312-win_amd64.whl (726 kB)\n",
      "   ---------------------------------------- 0.0/726.2 kB ? eta -:--:--\n",
      "   --------------------------------------- 726.2/726.2 kB 29.0 MB/s eta 0:00:00\n",
      "Downloading plotly-6.0.0-py3-none-any.whl (14.8 MB)\n",
      "   ---------------------------------------- 0.0/14.8 MB ? eta -:--:--\n",
      "   ---------------------------------------  14.7/14.8 MB 83.8 MB/s eta 0:00:01\n",
      "   ---------------------------------------- 14.8/14.8 MB 71.6 MB/s eta 0:00:00\n",
      "Downloading sentence_transformers-3.4.1-py3-none-any.whl (275 kB)\n",
      "Downloading umap_learn-0.5.7-py3-none-any.whl (88 kB)\n",
      "Downloading numba-0.61.0-cp312-cp312-win_amd64.whl (2.8 MB)\n",
      "   ---------------------------------------- 0.0/2.8 MB ? eta -:--:--\n",
      "   ---------------------------------------- 2.8/2.8 MB 54.6 MB/s eta 0:00:00\n",
      "Downloading pynndescent-0.5.13-py3-none-any.whl (56 kB)\n",
      "Downloading llvmlite-0.44.0-cp312-cp312-win_amd64.whl (30.3 MB)\n",
      "   ---------------------------------------- 0.0/30.3 MB ? eta -:--:--\n",
      "   ------------------------ --------------- 18.4/30.3 MB 89.1 MB/s eta 0:00:01\n",
      "   ---------------------------------------- 30.3/30.3 MB 66.4 MB/s eta 0:00:00\n",
      "Installing collected packages: plotly, llvmlite, numba, pynndescent, hdbscan, umap-learn, sentence-transformers, bertopic\n"
     ]
    },
    {
     "name": "stderr",
     "output_type": "stream",
     "text": [
      "ERROR: Could not install packages due to an OSError: [WinError 5] Access is denied: 'C:\\\\Users\\\\aryan\\\\AppData\\\\Local\\\\Programs\\\\Python\\\\Python312\\\\Lib\\\\site-packages\\\\hdbscan\\\\_hdbscan_boruvka.cp312-win_amd64.pyd'\n",
      "Consider using the `--user` option or check the permissions.\n",
      "\n",
      "\n",
      "[notice] A new release of pip is available: 24.3.1 -> 25.0\n",
      "[notice] To update, run: python.exe -m pip install --upgrade pip\n"
     ]
    },
    {
     "name": "stdout",
     "output_type": "stream",
     "text": [
      "WARNING:tensorflow:From c:\\Users\\aryan\\AppData\\Local\\Programs\\Python\\Python312\\Lib\\site-packages\\tf_keras\\src\\losses.py:2976: The name tf.losses.sparse_softmax_cross_entropy is deprecated. Please use tf.compat.v1.losses.sparse_softmax_cross_entropy instead.\n",
      "\n"
     ]
    },
    {
     "data": {
      "application/vnd.jupyter.widget-view+json": {
       "model_id": "aa8c60e26b214ef28ab9069b0431609d",
       "version_major": 2,
       "version_minor": 0
      },
      "text/plain": [
       "modules.json:   0%|          | 0.00/349 [00:00<?, ?B/s]"
      ]
     },
     "metadata": {},
     "output_type": "display_data"
    },
    {
     "data": {
      "application/vnd.jupyter.widget-view+json": {
       "model_id": "6427d135e0344387bc227941eb19c905",
       "version_major": 2,
       "version_minor": 0
      },
      "text/plain": [
       "config_sentence_transformers.json:   0%|          | 0.00/116 [00:00<?, ?B/s]"
      ]
     },
     "metadata": {},
     "output_type": "display_data"
    },
    {
     "data": {
      "application/vnd.jupyter.widget-view+json": {
       "model_id": "676f3c2a7cf44c69b9bf73dec39975ef",
       "version_major": 2,
       "version_minor": 0
      },
      "text/plain": [
       "README.md:   0%|          | 0.00/10.7k [00:00<?, ?B/s]"
      ]
     },
     "metadata": {},
     "output_type": "display_data"
    },
    {
     "data": {
      "application/vnd.jupyter.widget-view+json": {
       "model_id": "aac4e3c6d1874d0bb6712c7633a9d9b6",
       "version_major": 2,
       "version_minor": 0
      },
      "text/plain": [
       "sentence_bert_config.json:   0%|          | 0.00/53.0 [00:00<?, ?B/s]"
      ]
     },
     "metadata": {},
     "output_type": "display_data"
    },
    {
     "data": {
      "application/vnd.jupyter.widget-view+json": {
       "model_id": "33acee4ea31041a3bda1d099e95447a0",
       "version_major": 2,
       "version_minor": 0
      },
      "text/plain": [
       "config.json:   0%|          | 0.00/612 [00:00<?, ?B/s]"
      ]
     },
     "metadata": {},
     "output_type": "display_data"
    },
    {
     "data": {
      "application/vnd.jupyter.widget-view+json": {
       "model_id": "ae06d220cd464355b4975ffb161abdbf",
       "version_major": 2,
       "version_minor": 0
      },
      "text/plain": [
       "model.safetensors:   0%|          | 0.00/90.9M [00:00<?, ?B/s]"
      ]
     },
     "metadata": {},
     "output_type": "display_data"
    },
    {
     "data": {
      "application/vnd.jupyter.widget-view+json": {
       "model_id": "b8d2dccc76b548b7b72c3a7ee4295bb3",
       "version_major": 2,
       "version_minor": 0
      },
      "text/plain": [
       "tokenizer_config.json:   0%|          | 0.00/350 [00:00<?, ?B/s]"
      ]
     },
     "metadata": {},
     "output_type": "display_data"
    },
    {
     "data": {
      "application/vnd.jupyter.widget-view+json": {
       "model_id": "ba71c675b4394e9faf00b36a2be6ebc3",
       "version_major": 2,
       "version_minor": 0
      },
      "text/plain": [
       "vocab.txt:   0%|          | 0.00/232k [00:00<?, ?B/s]"
      ]
     },
     "metadata": {},
     "output_type": "display_data"
    },
    {
     "data": {
      "application/vnd.jupyter.widget-view+json": {
       "model_id": "e8b3ce90be604fe899b04ed05bcfcb90",
       "version_major": 2,
       "version_minor": 0
      },
      "text/plain": [
       "tokenizer.json:   0%|          | 0.00/466k [00:00<?, ?B/s]"
      ]
     },
     "metadata": {},
     "output_type": "display_data"
    },
    {
     "data": {
      "application/vnd.jupyter.widget-view+json": {
       "model_id": "1d9231b5fb2541608a8ab2f857084c1d",
       "version_major": 2,
       "version_minor": 0
      },
      "text/plain": [
       "special_tokens_map.json:   0%|          | 0.00/112 [00:00<?, ?B/s]"
      ]
     },
     "metadata": {},
     "output_type": "display_data"
    },
    {
     "data": {
      "application/vnd.jupyter.widget-view+json": {
       "model_id": "2995a0f1344e4591b67b749f01f85a6a",
       "version_major": 2,
       "version_minor": 0
      },
      "text/plain": [
       "1_Pooling/config.json:   0%|          | 0.00/190 [00:00<?, ?B/s]"
      ]
     },
     "metadata": {},
     "output_type": "display_data"
    },
    {
     "data": {
      "text/html": [
       "<div>\n",
       "<style scoped>\n",
       "    .dataframe tbody tr th:only-of-type {\n",
       "        vertical-align: middle;\n",
       "    }\n",
       "\n",
       "    .dataframe tbody tr th {\n",
       "        vertical-align: top;\n",
       "    }\n",
       "\n",
       "    .dataframe thead th {\n",
       "        text-align: right;\n",
       "    }\n",
       "</style>\n",
       "<table border=\"1\" class=\"dataframe\">\n",
       "  <thead>\n",
       "    <tr style=\"text-align: right;\">\n",
       "      <th></th>\n",
       "      <th>Topic</th>\n",
       "      <th>Count</th>\n",
       "      <th>Name</th>\n",
       "      <th>Representation</th>\n",
       "      <th>Representative_Docs</th>\n",
       "    </tr>\n",
       "  </thead>\n",
       "  <tbody>\n",
       "    <tr>\n",
       "      <th>0</th>\n",
       "      <td>-1</td>\n",
       "      <td>12312</td>\n",
       "      <td>-1_you_to_the_job</td>\n",
       "      <td>[you, to, the, job, and, for, of, this, it, is]</td>\n",
       "      <td>[Has anyone had an experience being a bit sad ...</td>\n",
       "    </tr>\n",
       "    <tr>\n",
       "      <th>1</th>\n",
       "      <td>0</td>\n",
       "      <td>8406</td>\n",
       "      <td>0_null_probing_quadratic_hashtables</td>\n",
       "      <td>[null, probing, quadratic, hashtables, regardi...</td>\n",
       "      <td>[Null, Null, Null]</td>\n",
       "    </tr>\n",
       "    <tr>\n",
       "      <th>2</th>\n",
       "      <td>1</td>\n",
       "      <td>1853</td>\n",
       "      <td>1_de_en_la_el</td>\n",
       "      <td>[de, en, la, el, colombia, que, del, los, un, ...</td>\n",
       "      <td>[Colombia cuenta con el mayor número de aves e...</td>\n",
       "    </tr>\n",
       "    <tr>\n",
       "      <th>3</th>\n",
       "      <td>2</td>\n",
       "      <td>755</td>\n",
       "      <td>2_computer_science_cs_programming</td>\n",
       "      <td>[computer, science, cs, programming, learning,...</td>\n",
       "      <td>[What do I need to learn computer science, I w...</td>\n",
       "    </tr>\n",
       "    <tr>\n",
       "      <th>4</th>\n",
       "      <td>3</td>\n",
       "      <td>560</td>\n",
       "      <td>3_business_selling_ama_entrepreneur</td>\n",
       "      <td>[business, selling, ama, entrepreneur, revenue...</td>\n",
       "      <td>[We are two 24 year olds who invested $4000 to...</td>\n",
       "    </tr>\n",
       "    <tr>\n",
       "      <th>...</th>\n",
       "      <td>...</td>\n",
       "      <td>...</td>\n",
       "      <td>...</td>\n",
       "      <td>...</td>\n",
       "      <td>...</td>\n",
       "    </tr>\n",
       "    <tr>\n",
       "      <th>353</th>\n",
       "      <td>352</td>\n",
       "      <td>10</td>\n",
       "      <td>352_gamers_gaming_games_video</td>\n",
       "      <td>[gamers, gaming, games, video, babies, fiction...</td>\n",
       "      <td>[Social media and television use — but not vid...</td>\n",
       "    </tr>\n",
       "    <tr>\n",
       "      <th>354</th>\n",
       "      <td>353</td>\n",
       "      <td>10</td>\n",
       "      <td>353_hours_productivity_40_microsoft</td>\n",
       "      <td>[hours, productivity, 40, microsoft, paints, a...</td>\n",
       "      <td>[Does a 40 hours a week work get any better?, ...</td>\n",
       "    </tr>\n",
       "    <tr>\n",
       "      <th>355</th>\n",
       "      <td>354</td>\n",
       "      <td>10</td>\n",
       "      <td>354_notice_give_mehow_twoweeks</td>\n",
       "      <td>[notice, give, mehow, twoweeks, weeks, two, no...</td>\n",
       "      <td>[Two weeks notice for a day off, How much noti...</td>\n",
       "    </tr>\n",
       "    <tr>\n",
       "      <th>356</th>\n",
       "      <td>355</td>\n",
       "      <td>10</td>\n",
       "      <td>355_corona_travellers_amidst_us17</td>\n",
       "      <td>[corona, travellers, amidst, us17, shutdowns, ...</td>\n",
       "      <td>[Sweet Tomatoes confirms it’s permanently clos...</td>\n",
       "    </tr>\n",
       "    <tr>\n",
       "      <th>357</th>\n",
       "      <td>356</td>\n",
       "      <td>10</td>\n",
       "      <td>356_eyes_see_accessibility_weddings</td>\n",
       "      <td>[eyes, see, accessibility, weddings, oriental,...</td>\n",
       "      <td>[Does anyone see weddings and instantly think:...</td>\n",
       "    </tr>\n",
       "  </tbody>\n",
       "</table>\n",
       "<p>358 rows × 5 columns</p>\n",
       "</div>"
      ],
      "text/plain": [
       "     Topic  Count                                 Name  \\\n",
       "0       -1  12312                    -1_you_to_the_job   \n",
       "1        0   8406  0_null_probing_quadratic_hashtables   \n",
       "2        1   1853                        1_de_en_la_el   \n",
       "3        2    755    2_computer_science_cs_programming   \n",
       "4        3    560  3_business_selling_ama_entrepreneur   \n",
       "..     ...    ...                                  ...   \n",
       "353    352     10        352_gamers_gaming_games_video   \n",
       "354    353     10  353_hours_productivity_40_microsoft   \n",
       "355    354     10       354_notice_give_mehow_twoweeks   \n",
       "356    355     10    355_corona_travellers_amidst_us17   \n",
       "357    356     10  356_eyes_see_accessibility_weddings   \n",
       "\n",
       "                                        Representation  \\\n",
       "0      [you, to, the, job, and, for, of, this, it, is]   \n",
       "1    [null, probing, quadratic, hashtables, regardi...   \n",
       "2    [de, en, la, el, colombia, que, del, los, un, ...   \n",
       "3    [computer, science, cs, programming, learning,...   \n",
       "4    [business, selling, ama, entrepreneur, revenue...   \n",
       "..                                                 ...   \n",
       "353  [gamers, gaming, games, video, babies, fiction...   \n",
       "354  [hours, productivity, 40, microsoft, paints, a...   \n",
       "355  [notice, give, mehow, twoweeks, weeks, two, no...   \n",
       "356  [corona, travellers, amidst, us17, shutdowns, ...   \n",
       "357  [eyes, see, accessibility, weddings, oriental,...   \n",
       "\n",
       "                                   Representative_Docs  \n",
       "0    [Has anyone had an experience being a bit sad ...  \n",
       "1                                   [Null, Null, Null]  \n",
       "2    [Colombia cuenta con el mayor número de aves e...  \n",
       "3    [What do I need to learn computer science, I w...  \n",
       "4    [We are two 24 year olds who invested $4000 to...  \n",
       "..                                                 ...  \n",
       "353  [Social media and television use — but not vid...  \n",
       "354  [Does a 40 hours a week work get any better?, ...  \n",
       "355  [Two weeks notice for a day off, How much noti...  \n",
       "356  [Sweet Tomatoes confirms it’s permanently clos...  \n",
       "357  [Does anyone see weddings and instantly think:...  \n",
       "\n",
       "[358 rows x 5 columns]"
      ]
     },
     "execution_count": 22,
     "metadata": {},
     "output_type": "execute_result"
    }
   ],
   "source": [
    "from bertopic import BERTopic\n",
    "topic_model = BERTopic()"
   ]
  },
  {
   "cell_type": "code",
   "execution_count": null,
   "metadata": {},
   "outputs": [],
   "source": [
    "topics, probabilities = topic_model.fit_transform(data['Title'])\n",
    "data['Title_Topic'] = topics\n",
    "\n",
    "topic_model.get_topic_info()"
   ]
  },
  {
   "cell_type": "code",
   "execution_count": null,
   "metadata": {},
   "outputs": [],
   "source": []
  }
 ],
 "metadata": {
  "kernelspec": {
   "display_name": "Python 3",
   "language": "python",
   "name": "python3"
  },
  "language_info": {
   "codemirror_mode": {
    "name": "ipython",
    "version": 3
   },
   "file_extension": ".py",
   "mimetype": "text/x-python",
   "name": "python",
   "nbconvert_exporter": "python",
   "pygments_lexer": "ipython3",
   "version": "3.12.0"
  }
 },
 "nbformat": 4,
 "nbformat_minor": 2
}
